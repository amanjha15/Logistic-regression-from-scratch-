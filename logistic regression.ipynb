{
 "cells": [
  {
   "cell_type": "code",
   "execution_count": 303,
   "id": "2f072551-ac2c-422f-b93b-fa47e7d183a7",
   "metadata": {},
   "outputs": [],
   "source": [
    "import pandas as pd\n",
    "import seaborn as sns\n",
    "import numpy as np\n",
    "import matplotlib.pyplot as plt\n",
    "from sklearn.model_selection import train_test_split\n",
    "from sklearn.metrics import accuracy_score\n",
    "from sklearn.preprocessing import StandardScaler"
   ]
  },
  {
   "cell_type": "code",
   "execution_count": 304,
   "id": "0de3a1a8-bd21-4502-9eb1-dee927d520f8",
   "metadata": {},
   "outputs": [],
   "source": [
    "\n",
    "\n",
    "df = pd.read_csv(\"Multiclass Diabetes Dataset.csv\")\n",
    "df = df[df['Class'] != 2]  \n",
    "\n",
    "X = df.drop(columns=\"Class\").values\n",
    "Y = df[\"Class\"].values\n",
    "\n",
    "X_train, X_test, Y_train, Y_test = train_test_split(\n",
    "    X, Y, test_size=0.2, random_state=42, shuffle=True\n",
    ")\n",
    "\n",
    "scaler = StandardScaler()\n",
    "X_train = scaler.fit_transform(X_train)\n",
    "X_test = scaler.transform(X_test)"
   ]
  },
  {
   "cell_type": "code",
   "execution_count": 317,
   "id": "343bccdd-4243-4e08-841a-467c86be30fa",
   "metadata": {},
   "outputs": [],
   "source": [
    "\n",
    "class lr:\n",
    "    def __init__(self, learning_rate, iterations):  \n",
    "        self.learning_rate = learning_rate\n",
    "        self.iterations = iterations\n",
    "\n",
    "    def fit(self, X, Y):\n",
    "        self.m, self.n = X.shape\n",
    "        self.w = np.zeros(self.n)\n",
    "        self.b = 0\n",
    "        self.X = X\n",
    "        self.Y = Y\n",
    "        for i in range(self.iterations):\n",
    "            self.update_weights()\n",
    "\n",
    "    def update_weights(self):\n",
    "        h = 1 / (1 + np.exp(- (self.X.dot(self.w) + self.b)))\n",
    "        dw = (1 / self.m) * (np.dot(self.X.T, (h - self.Y)))\n",
    "        db = (1 / self.m) * np.sum(h - self.Y)\n",
    "        self.w -= self.learning_rate * dw\n",
    "        self.b -= self.learning_rate * db\n",
    "\n",
    "    def predict(self, X):\n",
    "        h = 1 / (1 + np.exp(- (X.dot(self.w) + self.b)))\n",
    "        Y_pred = np.where(h > 0.5, 1, 0)\n",
    "\n",
    "        return Y_pred"
   ]
  },
  {
   "cell_type": "code",
   "execution_count": 333,
   "id": "d3de0be5-769f-4d37-ba04-cbdd0f03530c",
   "metadata": {},
   "outputs": [],
   "source": [
    "model = lr(learning_rate=0.01, iterations=100)\n",
    "model.fit(X_train, Y_train)\n",
    "\n",
    "y_pred = model.predict(X_test)\n"
   ]
  },
  {
   "cell_type": "code",
   "execution_count": 334,
   "id": "fa9a9ce3-1bcd-4c40-b6e3-e688881c0cd0",
   "metadata": {},
   "outputs": [
    {
     "data": {
      "text/plain": [
       "0.9285714285714286"
      ]
     },
     "execution_count": 334,
     "metadata": {},
     "output_type": "execute_result"
    }
   ],
   "source": [
    "accuracy=accuracy_score(y_pred,Y_test)\n",
    "accuracy"
   ]
  },
  {
   "cell_type": "code",
   "execution_count": 268,
   "id": "a8308763-8552-4d7d-88ef-ad8ee2dc2bc5",
   "metadata": {},
   "outputs": [],
   "source": [
    "#applying newtons method"
   ]
  },
  {
   "cell_type": "code",
   "execution_count": 357,
   "id": "39aceba3-9068-4404-83c6-dfcf53f99099",
   "metadata": {},
   "outputs": [],
   "source": [
    "class lr2:\n",
    "    def __init__(self, learning_rate, iterations):  \n",
    "        self.learning_rate = learning_rate\n",
    "        self.iterations = iterations\n",
    "\n",
    "    def fit(self, X, Y):\n",
    "        self.m, self.n = X.shape\n",
    "        self.w = np.zeros(self.n)\n",
    "        self.b = 0\n",
    "        self.X = X\n",
    "        self.Y = Y\n",
    "        for i in range(self.iterations):\n",
    "            self.update_weights()\n",
    "\n",
    "    def update_weights(self):\n",
    "        X_ext = np.hstack((self.X, np.ones((self.m, 1))))\n",
    "        z = X_ext @ np.append(self.w, self.b)\n",
    "        h = 1 / (1 + np.exp(-z))\n",
    "    \n",
    "        W = np.diag((h * (1 - h)).flatten())\n",
    "        grad = X_ext.T @ (h - self.Y)\n",
    "    \n",
    "        H = X_ext.T @ W @ X_ext\n",
    "        update = np.linalg.pinv(H) @ grad\n",
    "    \n",
    "        params = np.append(self.w, self.b) - update\n",
    "        self.w = params[:-1]\n",
    "        self.b = params[-1]\n",
    "    \n",
    "\n",
    "    def predict(self, X):\n",
    "        h = 1 / (1 + np.exp(- (X.dot(self.w) + self.b)))\n",
    "        Y_pred = np.where(h > 0.5, 1, 0)\n",
    "\n",
    "\n",
    "        return Y_pred\n"
   ]
  },
  {
   "cell_type": "code",
   "execution_count": 358,
   "id": "77c369b6-81bc-4b51-895a-179c7b5d6994",
   "metadata": {},
   "outputs": [
    {
     "name": "stderr",
     "output_type": "stream",
     "text": [
      "C:\\Users\\Aman Jha\\AppData\\Local\\Temp\\ipykernel_21316\\255066807.py:18: RuntimeWarning: overflow encountered in exp\n",
      "  h = 1 / (1 + np.exp(-z))\n",
      "C:\\Users\\Aman Jha\\AppData\\Local\\Temp\\ipykernel_21316\\255066807.py:32: RuntimeWarning: overflow encountered in exp\n",
      "  h = 1 / (1 + np.exp(- (X.dot(self.w) + self.b)))\n"
     ]
    }
   ],
   "source": [
    "model = lr2(learning_rate=0.01, iterations=100)\n",
    "model.fit(X_train, Y_train)\n",
    "\n",
    "y_pred2 = model.predict(X_test)\n"
   ]
  },
  {
   "cell_type": "code",
   "execution_count": 359,
   "id": "5035aeba-0b24-43d3-94d6-f6c07bcf1af0",
   "metadata": {},
   "outputs": [
    {
     "data": {
      "text/plain": [
       "1.0"
      ]
     },
     "execution_count": 359,
     "metadata": {},
     "output_type": "execute_result"
    }
   ],
   "source": [
    "accuracy=accuracy_score(y_pred2,Y_test)\n",
    "accuracy"
   ]
  }
 ],
 "metadata": {
  "kernelspec": {
   "display_name": "Python 3 (ipykernel)",
   "language": "python",
   "name": "python3"
  },
  "language_info": {
   "codemirror_mode": {
    "name": "ipython",
    "version": 3
   },
   "file_extension": ".py",
   "mimetype": "text/x-python",
   "name": "python",
   "nbconvert_exporter": "python",
   "pygments_lexer": "ipython3",
   "version": "3.13.1"
  }
 },
 "nbformat": 4,
 "nbformat_minor": 5
}
